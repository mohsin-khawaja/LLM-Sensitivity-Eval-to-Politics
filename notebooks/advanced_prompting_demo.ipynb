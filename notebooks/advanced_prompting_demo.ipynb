{
  "cells": [
    {
      "cell_type": "raw",
      "metadata": {
        "vscode": {
          "languageId": "raw"
        }
      },
      "source": [
        "# Advanced Prompting Techniques for Political Bias Evaluation\n",
        "\n",
        "This notebook demonstrates how to apply state-of-the-art prompting techniques to enhance political bias detection and evaluation.\n",
        "\n",
        "## Techniques Covered:\n",
        "1. **Directional Stimulus Prompting** - Control political perspective\n",
        "2. **Chain-of-Thought** - Understand reasoning behind bias\n",
        "3. **Self-Consistency** - Validate bias measurements\n",
        "4. **Few-shot Prompting** - Guide neutral responses\n",
        "5. **Meta Prompting** - Bias-aware completion\n"
      ]
    },
    {
      "cell_type": "code",
      "execution_count": 1,
      "metadata": {},
      "outputs": [
        {
          "name": "stdout",
          "output_type": "stream",
          "text": [
            "Advanced Prompting Techniques Demo\n",
            "========================================\n"
          ]
        }
      ],
      "source": [
        "# Setup\n",
        "import sys\n",
        "import pandas as pd\n",
        "import numpy as np\n",
        "import matplotlib.pyplot as plt\n",
        "import seaborn as sns\n",
        "\n",
        "sys.path.append('../src')\n",
        "from llm_helpers import LLMProber\n",
        "from prompts import (\n",
        "    DIRECTIONAL_PROMPTS, \n",
        "    CHAIN_OF_THOUGHT_PROMPT,\n",
        "    SELF_CONSISTENCY_PROMPT,\n",
        "    FEW_SHOT_PROMPT,\n",
        "    META_BIAS_PROMPT,\n",
        "    FEW_SHOT_EXAMPLES\n",
        ")\n",
        "\n",
        "print(\"Advanced Prompting Techniques Demo\")\n",
        "print(\"=\" * 40)\n"
      ]
    },
    {
      "cell_type": "code",
      "execution_count": null,
      "metadata": {},
      "outputs": [],
      "source": []
    }
  ],
  "metadata": {
    "kernelspec": {
      "display_name": "cogs185",
      "language": "python",
      "name": "python3"
    },
    "language_info": {
      "codemirror_mode": {
        "name": "ipython",
        "version": 3
      },
      "file_extension": ".py",
      "mimetype": "text/x-python",
      "name": "python",
      "nbconvert_exporter": "python",
      "pygments_lexer": "ipython3",
      "version": "3.9.21"
    }
  },
  "nbformat": 4,
  "nbformat_minor": 2
}
