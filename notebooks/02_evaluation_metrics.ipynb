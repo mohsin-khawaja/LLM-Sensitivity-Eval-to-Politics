{
  "cells": [
    {
      "cell_type": "raw",
      "metadata": {
        "vscode": {
          "languageId": "raw"
        }
      },
      "source": [
        "# Evaluation Metrics and Statistical Analysis\n",
        "\n",
        "This notebook performs comprehensive statistical analysis of bias evaluation results, including significance tests, effect sizes, and trace analyses.\n",
        "\n",
        "## Overview\n",
        "\n",
        "We analyze the results from bias probing experiments using various statistical methods:\n",
        "\n",
        "- **T-tests** for mean bias significance\n",
        "- **Effect size calculations** (Cohen's d)\n",
        "- **Consistency analysis** across prompting strategies\n",
        "- **Trace complexity metrics** for chain-of-thought responses\n"
      ]
    },
    {
      "cell_type": "code",
      "execution_count": 2,
      "metadata": {},
      "outputs": [],
      "source": [
        "import sys\n",
        "import pandas as pd\n",
        "import numpy as np\n",
        "import matplotlib.pyplot as plt\n",
        "import seaborn as sns\n",
        "from scipy import stats\n",
        "import json\n",
        "from pathlib import Path\n",
        "import warnings\n",
        "warnings.filterwarnings('ignore')\n",
        "\n",
        "# Add src to path\n",
        "sys.path.append('../src')\n",
        "\n",
        "from evaluate import (BiasEvaluator, ComplexityAnalyzer, TraceAnalyzer, \n",
        "                      comprehensive_bias_analysis, load_experimental_data)\n",
        "\n",
        "# Set style\n",
        "plt.style.use('seaborn-v0_8')\n",
        "sns.set_palette(\"husl\")\n"
      ]
    },
    {
      "cell_type": "code",
      "execution_count": null,
      "metadata": {},
      "outputs": [],
      "source": []
    }
  ],
  "metadata": {
    "kernelspec": {
      "display_name": "cogs185",
      "language": "python",
      "name": "python3"
    },
    "language_info": {
      "codemirror_mode": {
        "name": "ipython",
        "version": 3
      },
      "file_extension": ".py",
      "mimetype": "text/x-python",
      "name": "python",
      "nbconvert_exporter": "python",
      "pygments_lexer": "ipython3",
      "version": "3.9.21"
    }
  },
  "nbformat": 4,
  "nbformat_minor": 2
}
