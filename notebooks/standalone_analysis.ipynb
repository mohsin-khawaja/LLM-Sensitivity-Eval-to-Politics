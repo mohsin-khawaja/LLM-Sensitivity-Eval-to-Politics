{
  "cells": [
    {
      "cell_type": "raw",
      "metadata": {
        "vscode": {
          "languageId": "raw"
        }
      },
      "source": [
        "# Standalone Bias Analysis\n",
        "\n",
        "This notebook provides a self-contained bias analysis that doesn't depend on complex module imports.\n",
        "It includes all necessary functions inline to avoid import issues.\n",
        "\n",
        "## Features\n",
        "-  No complex imports - everything inline\n",
        "-  Automatic data loading from results directory\n",
        "-  Comprehensive statistical analysis\n",
        "-  Professional visualizations\n",
        "-  Export capabilities\n"
      ]
    },
    {
      "cell_type": "code",
      "execution_count": 1,
      "metadata": {},
      "outputs": [
        {
          "name": "stdout",
          "output_type": "stream",
          "text": [
            "📊 Standalone Analysis Notebook Loaded!\n",
            " All functions included inline - no import issues!\n"
          ]
        }
      ],
      "source": [
        "import pandas as pd\n",
        "import numpy as np\n",
        "import matplotlib.pyplot as plt\n",
        "import seaborn as sns\n",
        "from pathlib import Path\n",
        "from scipy import stats\n",
        "import warnings\n",
        "warnings.filterwarnings('ignore')\n",
        "\n",
        "# Set style\n",
        "plt.style.use('seaborn-v0_8')\n",
        "sns.set_palette(\"husl\")\n",
        "plt.rcParams['figure.figsize'] = (12, 8)\n",
        "\n",
        "print(\"Standalone Analysis Notebook Loaded!\")\n",
        "print(\"All functions included inline - no import issues!\")\n"
      ]
    },
    {
      "cell_type": "code",
      "execution_count": 2,
      "metadata": {},
      "outputs": [
        {
          "name": "stdout",
          "output_type": "stream",
          "text": [
            " Datasets loaded:\n",
            "   Political Conflict: 90 items\n",
            "   Cultural-Ideological: 95 items\n",
            "   Total: 185 stimulus pairs\n",
            " Loaded experimental data: comprehensive_metrics_20250609_233155.csv\n",
            "   Shape: (3, 6)\n",
            "   Columns: ['strategy', 'mean_bias', 'std_bias', 'n_examples', 'ci_lower', 'ci_upper']\n",
            "   Strategies: {'zero_shot': 1, 'chain_of_thought': 1, 'few_shot': 1}\n"
          ]
        }
      ],
      "source": [
        "# Load datasets and experimental results\n",
        "def load_datasets():\n",
        "    \"\"\"Load the stimulus datasets.\"\"\"\n",
        "    try:\n",
        "        conflict_df = pd.read_csv('../data/stimuli/political_conflict_pairs_50.csv')\n",
        "        ideology_df = pd.read_csv('../data/stimuli/ideology_pairs.csv')\n",
        "        \n",
        "        print(f\"Datasets loaded:\")\n",
        "        print(f\"   Political Conflict: {len(conflict_df)} items\")\n",
        "        print(f\"   Cultural-Ideological: {len(ideology_df)} items\")\n",
        "        print(f\"   Total: {len(conflict_df) + len(ideology_df)} stimulus pairs\")\n",
        "        \n",
        "        return conflict_df, ideology_df\n",
        "    except Exception as e:\n",
        "        print(f\"Error loading datasets: {e}\")\n",
        "        return None, None\n",
        "\n",
        "def load_experimental_data(results_dir='../data/results'):\n",
        "    \"\"\"Load the most recent experimental results.\"\"\"\n",
        "    results_path = Path(results_dir)\n",
        "    if not results_path.exists():\n",
        "        print(f\"Results directory not found: {results_path}\")\n",
        "        return None\n",
        "    \n",
        "    csv_files = list(results_path.glob('*.csv'))\n",
        "    if not csv_files:\n",
        "        print(f\"No CSV files found in {results_path}\")\n",
        "        return None\n",
        "    \n",
        "    # Load the most recent file\n",
        "    latest_file = max(csv_files, key=lambda x: x.stat().st_mtime)\n",
        "    \n",
        "    try:\n",
        "        df = pd.read_csv(latest_file)\n",
        "        print(f\"Loaded experimental data: {latest_file.name}\")\n",
        "        print(f\"   Shape: {df.shape}\")\n",
        "        \n",
        "        if not df.empty:\n",
        "            print(f\"   Columns: {list(df.columns)}\")\n",
        "            if 'strategy' in df.columns:\n",
        "                print(f\"   Strategies: {df['strategy'].value_counts().to_dict()}\")\n",
        "            if 'dataset' in df.columns:\n",
        "                print(f\"   Datasets: {df['dataset'].value_counts().to_dict()}\")\n",
        "        \n",
        "        return df\n",
        "    except Exception as e:\n",
        "        print(f\"Error loading {latest_file}: {e}\")\n",
        "        return None\n",
        "\n",
        "# Load data\n",
        "conflict_df, ideology_df = load_datasets()\n",
        "results_df = load_experimental_data()\n"
      ]
    }
  ],
  "metadata": {
    "kernelspec": {
      "display_name": "cogs185",
      "language": "python",
      "name": "python3"
    },
    "language_info": {
      "codemirror_mode": {
        "name": "ipython",
        "version": 3
      },
      "file_extension": ".py",
      "mimetype": "text/x-python",
      "name": "python",
      "nbconvert_exporter": "python",
      "pygments_lexer": "ipython3",
      "version": "3.9.21"
    }
  },
  "nbformat": 4,
  "nbformat_minor": 2
}
