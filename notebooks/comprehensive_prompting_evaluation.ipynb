{
  "cells": [
    {
      "cell_type": "raw",
      "metadata": {
        "vscode": {
          "languageId": "raw"
        }
      },
      "source": [
        "# Comprehensive Prompting Techniques Evaluation\n",
        "\n",
        "This notebook implements and applies advanced prompting techniques to both datasets:\n",
        "- **Political Conflict Dataset**: 90 Gaza conflict framing pairs\n",
        "- **Cultural-Ideological Dataset**: 95 religious vs secular pairs\n",
        "\n",
        "## Techniques Applied:\n",
        "1. **Automatic Prompt Engineering (APE)** - Generate optimal bias-reduction prompts\n",
        "2. **Directional Stimulus Prompting** - Control political perspective\n",
        "3. **Few-shot Prompting** - Guide neutral responses\n",
        "4. **Self-Consistency Testing** - Validate reliability\n",
        "5. **Chain-of-Thought** - Analyze reasoning patterns\n",
        "\n",
        "## Goal:\n",
        "Find prompting strategies that minimize political and ideological bias across all 185 stimulus pairs.\n"
      ]
    },
    {
      "cell_type": "code",
      "execution_count": null,
      "metadata": {},
      "outputs": [],
      "source": [
        "# Setup and Imports\n",
        "import sys\n",
        "import pandas as pd\n",
        "import numpy as np\n",
        "import matplotlib.pyplot as plt\n",
        "import seaborn as sns\n",
        "from scipy import stats\n",
        "import json\n",
        "from datetime import datetime\n",
        "import warnings\n",
        "warnings.filterwarnings('ignore')\n",
        "\n",
        "# Add src to path\n",
        "sys.path.append('../src')\n",
        "\n",
        "# Import our modules\n",
        "from llm_helpers import LLMProber\n",
        "from evaluate import BiasEvaluator\n",
        "from ape import AutomaticPromptEngineer\n",
        "from prompts import (\n",
        "    DIRECTIONAL_PROMPTS,\n",
        "    FEW_SHOT_PROMPT,\n",
        "    FEW_SHOT_EXAMPLES,\n",
        "    CHAIN_OF_THOUGHT_PROMPT,\n",
        "    SELF_CONSISTENCY_PROMPT,\n",
        "    META_BIAS_PROMPT\n",
        ")\n",
        "\n",
        "# Set plotting style\n",
        "plt.style.use('seaborn-v0_8')\n",
        "sns.set_palette(\"husl\")\n",
        "plt.rcParams['figure.figsize'] = (12, 8)\n",
        "\n",
        "print(\"Comprehensive Prompting Techniques Evaluation\")\n",
        "print(\"=\" * 50)\n",
        "print(\"Loading datasets and initializing models...\")\n"
      ]
    }
  ],
  "metadata": {
    "language_info": {
      "name": "python"
    }
  },
  "nbformat": 4,
  "nbformat_minor": 2
}
